{
 "cells": [
  {
   "cell_type": "code",
   "execution_count": null,
   "metadata": {},
   "outputs": [],
   "source": [
    "#Q1 - Define the relationship between a class and its instances. Is it a one-to-one or a one-to-many partnership, for example?\n",
    "#Answer:\n",
    "The relationship between a class and its instances is a one-to-many partnership.\n",
    "\n",
    "A class in object-oriented programming serves as a blueprint or template that defines the attributes (data) and behaviors (methods) that objects \n",
    "of that class will possess. It encapsulates the common characteristics and functionality shared by its instances.\n",
    "\n",
    "Instances, also known as objects, are specific representations of the class. Each instance has its own unique set of attribute values and \n",
    "can exhibit its own behavior through method calls. Multiple instances can be created from the same class, and each instance maintains its \n",
    "own state and interacts independently with other objects or the program.\n",
    "\n",
    "The one-to-many relationship stems from the fact that a single class can be used to create multiple instances or objects. Each instance \n",
    "is distinct and separate, having its own set of data and behavior, but they all belong to the same class."
   ]
  },
  {
   "cell_type": "code",
   "execution_count": null,
   "metadata": {},
   "outputs": [],
   "source": [
    "#Q2 - What kind of data is held only in an instance?\n",
    "#Answer:\n",
    "In object-oriented programming, instances hold specific data that is unique to each individual object. This data is often referred to as \n",
    "instance data or instance variables. It differentiates one instance from another and represents the object's state.\n",
    "\n",
    "Instance data is defined within the class but takes on different values for each instance. Each object has its own separate copy of \n",
    "instance data, and modifying the data of one instance does not affect the data of other instances.\n",
    "\n",
    "#Exp:\n",
    "class Person:\n",
    "    def __init__(self, name, age):\n",
    "        self.name = name\n",
    "        self.age = age\n",
    "\n",
    "person1 = Person(\"Alice\", 25)\n",
    "person2 = Person(\"Bob\", 30)\n"
   ]
  },
  {
   "cell_type": "code",
   "execution_count": null,
   "metadata": {},
   "outputs": [],
   "source": [
    "#Q3 - What kind of knowledge is stored in a class?\n",
    "#Answer:\n",
    "In object-oriented programming, a class encapsulates both data and behavior. The knowledge stored in a class can be categorized into two main \n",
    "aspects: attributes (data) and methods (behavior).\n",
    "\n",
    "Attributes (Data):\n",
    "- Instance Variables: These are variables specific to each instance of the class. They store the state or data associated with individual \n",
    "objects. Each instance can have its own values for these variables, representing the unique characteristics of the object.\n",
    "- Class Variables: These are variables shared by all instances of a class. They represent data that is common to all objects created from \n",
    "the class. Class variables have the same value for all instances and are defined at the class level.\n",
    "\n",
    "Attributes define the data associated with objects and represent their properties, characteristics, or state. They can be simple data types (such as integers, strings) or more complex objects.\n",
    "\n",
    "Methods (Behavior):\n",
    "- Instance Methods: These methods operate on individual instances of the class and can access and manipulate the instance variables. They \n",
    "define the behavior and actions that objects of the class can perform. Instance methods typically use the self parameter to reference the \n",
    "instance on which the method is called.\n",
    "- Class Methods: These methods operate on the class itself rather than on individual instances. They can access and modify class-level \n",
    "variables and are defined using the @classmethod decorator. Class methods are commonly used for operations that involve the class as a whole.\n",
    "\n",
    "Methods define the behavior of objects and enable them to perform actions, manipulate data, or interact with other objects or the environment."
   ]
  },
  {
   "cell_type": "code",
   "execution_count": null,
   "metadata": {},
   "outputs": [],
   "source": [
    "#Q4 - What exactly is a method, and how is it different from a regular function?\n",
    "#Answer:\n",
    "A method is a function that is associated with a class or an object. It defines the behavior or actions that objects of that class can perform. \n",
    "The key differences between a method and a regular function are as follows:\n",
    "\n",
    "1. Association with a Class/Object:\n",
    "\n",
    "- Method: A method is defined within a class and is associated with the objects (instances) created from that class. Each instance of the class \n",
    "has access to its own set of methods.\n",
    "- Function: A regular function is not associated with any specific class or object. It can be defined globally or within a module and can be \n",
    "called from anywhere in the program.\n",
    "\n",
    "2. Access to Object Data:\n",
    "\n",
    "- Method: Methods have access to the object's data through the self parameter, which refers to the instance the method is being called on. \n",
    "They can operate on and manipulate the object's attributes (instance variables).\n",
    "- Function: Regular functions do not have inherent access to object-specific data unless it is explicitly passed as an argument.\n",
    "\n",
    "3.Invocation:\n",
    "\n",
    "- Method: Methods are called on instances or objects using the dot notation (object.method()). The instance on which the method is called is \n",
    "implicitly passed as the first argument (self) within the method definition.\n",
    "- Function: Regular functions are called by their name followed by parentheses (function()). They do not have an implicit first argument \n",
    "like methods.\n",
    "\n",
    "4.Purpose and Behavior:\n",
    "\n",
    "- Method: Methods are typically used to encapsulate behavior that is specific to a class and operates on its instances. They can modify the \n",
    "object's state, access its data, perform calculations, or implement various operations related to the class.\n",
    "- Function: Regular functions are used to modularize code, break down tasks into reusable units, and encapsulate specific functionality \n",
    "that can be applied in different contexts. They can be used independently or in conjunction with classes and objects."
   ]
  },
  {
   "cell_type": "code",
   "execution_count": 1,
   "metadata": {},
   "outputs": [
    {
     "name": "stdout",
     "output_type": "stream",
     "text": [
      "Engine started.\n",
      "Red Toyota car is driving.\n"
     ]
    }
   ],
   "source": [
    "#Q5 - Is inheritance supported in Python, and if so, what is the syntax?\n",
    "#Answer:\n",
    "'''Yes, inheritance is supported in Python. Inheritance is a fundamental feature of object-oriented programming that allows you to define a \n",
    "new class based on an existing class, inheriting its attributes and methods. '''\n",
    "\n",
    "class Vehicle:\n",
    "    def __init__(self, brand):\n",
    "        self.brand = brand\n",
    "\n",
    "    def start(self):\n",
    "        print(\"Engine started.\")\n",
    "\n",
    "class Car(Vehicle):\n",
    "    def __init__(self, brand, color):\n",
    "        super().__init__(brand)  # Call the base class constructor\n",
    "        self.color = color\n",
    "\n",
    "    def drive(self):\n",
    "        print(f\"{self.color} {self.brand} car is driving.\")\n",
    "\n",
    "# Creating instances of the classes\n",
    "my_car = Car(\"Toyota\", \"Red\")\n",
    "my_car.start()  # Inherited method from Vehicle class\n",
    "my_car.drive()  # Method specific to Car class\n",
    "\n"
   ]
  },
  {
   "cell_type": "code",
   "execution_count": null,
   "metadata": {},
   "outputs": [],
   "source": [
    "#Q6 - How much encapsulation (making instance or class variables private) does Python support?\n",
    "#Answer:\n",
    "In Python, encapsulation is achieved through naming conventions rather than strict access modifiers like in some other programming languages \n",
    "(e.g., private, public, protected). Python provides a level of support for encapsulation, but it relies on conventions and conventions for \n",
    "indicating the intended visibility of variables and methods. Here's an overview of encapsulation in Python:\n",
    "\n",
    "- Public Variables and Methods:\n",
    "By default, all variables and methods defined in a class are considered public and can be accessed from anywhere. They can be accessed \n",
    "directly using the instance or class name.\n",
    "\n",
    "- Protected Variables and Methods:\n",
    "Conventionally, variables and methods intended for internal use within the class or its subclasses are prefixed with a single underscore _. \n",
    "This is a convention that indicates a protected variable or method, signaling to other developers that they should be treated as internal \n",
    "implementation details. However, there are no strict language-enforced restrictions on accessing or modifying these variables and methods.\n",
    "\n",
    "- Private Variables and Methods:\n",
    "Conventionally, variables and methods intended to be private and accessible only within the class are prefixed with a double underscore __. \n",
    "This triggers name mangling, where the variable or method name is transformed to include the class name as a prefix to avoid naming conflicts \n",
    "in subclasses. This convention signals that the variables and methods are intended to be used only internally within the class.\n",
    "\n",
    "Although name mangling makes it harder to accidentally access private variables from outside the class, it is still possible to access \n",
    "them using the mangled name. Python emphasizes the notion of \"we're all consenting adults here,\" trusting developers to follow conventions \n",
    "and not access private members directly.\n"
   ]
  },
  {
   "cell_type": "code",
   "execution_count": 3,
   "metadata": {},
   "outputs": [
    {
     "name": "stdout",
     "output_type": "stream",
     "text": [
      "Class Variable\n",
      "Class Variable: Class Variable\n",
      "Instance Variable: Instance 1\n",
      "Class Variable: Class Variable\n",
      "Instance Variable: Instance 2\n"
     ]
    }
   ],
   "source": [
    "#Q7 - How do you distinguish between a class variable and an instance variable?\n",
    "#Answer:\n",
    "'''In Python, class variables and instance variables are distinguished by their scope and how they are accessed and utilized within a class.\n",
    "\n",
    "Class Variables:\n",
    "\n",
    "- Scope: Class variables are defined within the class but outside of any instance methods. They are associated with the class itself rather \n",
    "than individual instances.\n",
    "- Shared Value: Class variables have the same value for all instances of the class. They are shared among all objects created from the class.\n",
    "- Accessed via the class name: Class variables are typically accessed using the class name itself or via an instance. When accessed via \n",
    "an instance, the value is retrieved from the class.\n",
    "- Modified with care: Class variables can be modified both within the class and by instances. However, it's important to be cautious when \n",
    "modifying class variables through an instance, as doing so creates a new instance variable instead of modifying the class variable itself.\n",
    "\n",
    "Instance Variables:\n",
    "\n",
    "- Scope: Instance variables are defined within an instance method or within the __init__() method of a class. They are unique to each \n",
    "instance of the class.\n",
    "- Object-specific Value: Each instance of the class has its own separate copy of instance variables. They hold data specific to each \n",
    "individual object.\n",
    "- Accessed via the instance: Instance variables are accessed and manipulated using the instance itself. Each instance maintains its own \n",
    "set of instance variables.\n",
    "- Modified freely: Instance variables can be modified within the class methods or by directly accessing them through the instance. \n",
    "Modifying an instance variable affects only the specific instance it belongs to.'''\n",
    "\n",
    "#Exp:\n",
    "class MyClass:\n",
    "    class_var = \"Class Variable\"\n",
    "\n",
    "    def __init__(self, instance_var):\n",
    "        self.instance_var = instance_var\n",
    "\n",
    "    def print_vars(self):\n",
    "        print(f\"Class Variable: {MyClass.class_var}\")\n",
    "        print(f\"Instance Variable: {self.instance_var}\")\n",
    "\n",
    "# Accessing class variable\n",
    "print(MyClass.class_var) \n",
    "\n",
    "# Creating instances\n",
    "obj1 = MyClass(\"Instance 1\")\n",
    "obj2 = MyClass(\"Instance 2\")\n",
    "\n",
    "# Accessing instance variables\n",
    "obj1.print_vars()\n",
    "obj2.print_vars()\n"
   ]
  },
  {
   "cell_type": "code",
   "execution_count": null,
   "metadata": {},
   "outputs": [],
   "source": [
    "#Q8 - When, if ever, can self be included in a class&#39;s method definitions?\n",
    "#Answer:\n",
    "In Python, the self parameter is included in a class's method definitions to refer to the instance on which the method is called. It is a \n",
    "convention used to indicate that the method belongs to the instance and can access and manipulate its attributes (instance variables) and \n",
    "invoke other instance methods.\n",
    "\n",
    "The self parameter is typically the first parameter in instance methods, although it can be named differently (though this is strongly \n",
    "discouraged). Including self explicitly in the method definition is necessary to establish the association between the method and the instance.\n",
    "\n",
    "The self parameter should be included in all instance methods, except for class methods or static methods. Class methods use cls as the \n",
    "first parameter to refer to the class itself, while static methods do not require a reference to either the instance or the class."
   ]
  },
  {
   "cell_type": "code",
   "execution_count": null,
   "metadata": {},
   "outputs": [],
   "source": [
    "#Q9 - What is the difference between the _ _add_ _ and the _ _radd_ _ methods?\n",
    "#Answer:\n",
    "In Python, the __add__ and __radd__ methods are used for addition operations between objects. The key difference between these two methods \n",
    "lies in their roles and the order of operand evaluation.\n",
    "\n",
    "1. __add__(self, other):\n",
    "\n",
    "- The __add__ method is invoked when the + operator is used to perform addition between objects.\n",
    "- This method is defined in a class to specify how objects of that class should behave when added together.\n",
    "- The self parameter refers to the instance on which the method is called, and the other parameter represents the object being added.\n",
    "- The __add__ method is responsible for performing the addition operation and returning the result.\n",
    "\n",
    "2. __radd__(self, other):\n",
    "\n",
    "- The __radd__ method is invoked when the addition operation encounters an object that does not directly support the addition operation with the object on the left side.\n",
    "- The __radd__ method is called only if the left operand does not define an __add__ method or if the __add__ method raises a TypeError for the given operand types.\n",
    "- This method is typically used to handle situations where the object on the left side of the addition operation is of a different type that does not directly support addition with the object on the right side.\n",
    "- Like __add__, the __radd__ method takes the self parameter representing the instance and the other parameter representing the object being added.\n",
    "- The __radd__ method should perform the necessary operations to support the addition and return the result."
   ]
  },
  {
   "cell_type": "code",
   "execution_count": null,
   "metadata": {},
   "outputs": [],
   "source": [
    "#Q10 - When is it necessary to use a reflection method? When do you not need it, even though you support the operation in question?\n",
    "#Answer:\n",
    "In object-oriented programming, reflection refers to the ability of a program to examine and modify its own structure or behavior at runtime. \n",
    "Reflection methods provide a way to introspect objects and classes, retrieve information about their attributes, methods, and dynamically \n",
    "invoke or modify them.\n",
    "\n",
    "The necessity of using a reflection method depends on the specific requirements and use cases. Here are some scenarios where reflection methods \n",
    "may be necessary:\n",
    "\n",
    "- Runtime Inspection: Reflection methods are useful when you need to examine the properties, methods, or metadata of objects or classes dynamically during program execution. This can be helpful for tasks such as runtime debugging, building generic frameworks, or implementing dynamic behaviors based on object introspection.\n",
    "\n",
    "- Dynamic Invocations: Reflection methods allow you to invoke methods dynamically by name, even when the method names are not known at compile time. This is often needed in cases where the specific method to be called is determined dynamically based on user input or configuration.\n",
    "\n",
    "- Metaprogramming: Reflection enables metaprogramming, where a program can modify its own structure or generate code dynamically. This can be useful for tasks like code generation, creating decorators, or implementing code frameworks that modify the behavior of classes or objects.\n",
    "\n",
    "On the other hand, reflection methods may not be necessary in certain situations where the operations can be handled directly without \n",
    "introspection. For example:\n",
    "\n",
    "- Static Binding: If the structure or behavior of objects is known at compile time and does not require dynamic introspection or modification, \n",
    "reflection methods may not be needed. Static binding can provide faster and more efficient execution in such cases.\n",
    "\n",
    "- Limited Scope: If the program's requirements do not involve dynamically accessing or modifying object properties, methods, or structure at \n",
    "runtime, reflection methods may not be necessary. It's only worth introducing the complexity of reflection when it offers specific benefits \n",
    "for your use case.\n",
    "\n",
    "- Security and Performance Concerns: Reflection introduces flexibility and dynamic behavior, but it can also have security implications and \n",
    "can be slower compared to direct method calls or property access. In performance-critical scenarios or applications with strict security \n",
    "requirements, avoiding reflection methods may be preferable."
   ]
  },
  {
   "cell_type": "code",
   "execution_count": 5,
   "metadata": {},
   "outputs": [
    {
     "name": "stdout",
     "output_type": "stream",
     "text": [
      "15\n"
     ]
    }
   ],
   "source": [
    "#Q11 - What is the _ _iadd_ _ method called?\n",
    "#Answer:\n",
    "'''The __iadd__ method is called when the += operator is used to perform an in-place addition operation. It is a special method in Python that \n",
    "allows objects to define their behavior when the in-place addition operation is applied to them.\n",
    "\n",
    "The __iadd__ method is part of the augmented assignment operators, which perform an operation and assign the result back to the original object. \n",
    "In the case of +=, the __iadd__ method is invoked to handle the in-place addition.'''\n",
    "\n",
    "#Exp:\n",
    "class MyClass:\n",
    "    def __init__(self, value):\n",
    "        self.value = value\n",
    "\n",
    "    def __iadd__(self, other):\n",
    "        self.value += other\n",
    "        return self\n",
    "\n",
    "# Create an instance\n",
    "obj = MyClass(10)\n",
    "\n",
    "# Apply in-place addition using +=\n",
    "obj += 5\n",
    "\n",
    "# Output the updated value\n",
    "print(obj.value)\n"
   ]
  },
  {
   "cell_type": "code",
   "execution_count": 7,
   "metadata": {},
   "outputs": [
    {
     "name": "stdout",
     "output_type": "stream",
     "text": [
      "Parent Argument\n",
      "Child Argument\n"
     ]
    }
   ],
   "source": [
    "#Q12 - Is the _ _init_ _ method inherited by subclasses? What do you do if you need to customize its behavior within a subclass?\n",
    "#Answer:\n",
    "'''Yes, the __init__ method is inherited by subclasses in Python. When a subclass is created, it inherits all the methods, including the \n",
    "__init__ method, from its superclass (base class). However, if the subclass defines its own __init__ method, it overrides the inherited \n",
    "__init__ method, and the superclass's __init__ method is not automatically called.\n",
    "\n",
    "If you need to customize the behavior of the __init__ method within a subclass while still utilizing the initialization logic from the \n",
    "superclass, you can call the superclass's __init__ method explicitly from the subclass using the super() function. This allows you to \n",
    "extend the initialization process of the subclass without duplicating the code from the superclass's __init__ method.'''\n",
    "\n",
    "#Exp:\n",
    "class ParentClass:\n",
    "    def __init__(self, parent_arg):\n",
    "        self.parent_arg = parent_arg\n",
    "\n",
    "class ChildClass(ParentClass):\n",
    "    def __init__(self, parent_arg, child_arg):\n",
    "        super().__init__(parent_arg)  # Call superclass's __init__ method\n",
    "        self.child_arg = child_arg\n",
    "\n",
    "# Creating an instance of ChildClass\n",
    "child_obj = ChildClass(\"Parent Argument\", \"Child Argument\")\n",
    "\n",
    "# Accessing attributes\n",
    "print(child_obj.parent_arg)\n",
    "print(child_obj.child_arg)\n"
   ]
  },
  {
   "cell_type": "code",
   "execution_count": null,
   "metadata": {},
   "outputs": [],
   "source": []
  }
 ],
 "metadata": {
  "kernelspec": {
   "display_name": "Python 3.9.6 64-bit",
   "language": "python",
   "name": "python3"
  },
  "language_info": {
   "codemirror_mode": {
    "name": "ipython",
    "version": 3
   },
   "file_extension": ".py",
   "mimetype": "text/x-python",
   "name": "python",
   "nbconvert_exporter": "python",
   "pygments_lexer": "ipython3",
   "version": "3.9.6"
  },
  "orig_nbformat": 4,
  "vscode": {
   "interpreter": {
    "hash": "31f2aee4e71d21fbe5cf8b01ff0e069b9275f58929596ceb00d14d90e3e16cd6"
   }
  }
 },
 "nbformat": 4,
 "nbformat_minor": 2
}
